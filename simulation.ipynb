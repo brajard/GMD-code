{
 "cells": [
  {
   "cell_type": "code",
   "execution_count": 24,
   "id": "7b38134b-829e-407f-a20c-47e6fadc025f",
   "metadata": {},
   "outputs": [],
   "source": [
    "import os\n",
    "from dapper.mods import Chronology\n",
    "\n",
    "from utils import setup as setup_lorenz\n",
    "from utils import simulate_ens, NNPredictor, SetupBuilder, plot_L96_2D\n",
    "import numpy as np\n",
    "import matplotlib.pyplot as plt"
   ]
  },
  {
   "cell_type": "code",
   "execution_count": 33,
   "id": "dd5c6e33-b529-4e3a-9e25-f536e48f900d",
   "metadata": {},
   "outputs": [],
   "source": [
    "#################\n",
    "# General Setup #\n",
    "#################\n",
    "\n",
    "N = 100 # Ensemble size\n",
    "datadir = 'example_data'  # Directory where to save the results\n",
    "weights1 = 'weights_init.h5'\n",
    "weights2 = 'weights_nn.h5'\n",
    "\n",
    "m = 40  # size of the state space\n",
    "p = 20  # Number of obs at each time step (50%)\n",
    "#std_m = 0.1  # standard deviation of model noise\n",
    "std_o = 1.  # standard devation of observational noise\n",
    "Texpe = 5. # Length of the experiment in model time unit\n"
   ]
  },
  {
   "cell_type": "code",
   "execution_count": 14,
   "id": "06bec893-7a65-4ee1-aeac-f0fd51e10c74",
   "metadata": {},
   "outputs": [
    {
     "data": {
      "application/vnd.jupyter.widget-view+json": {
       "model_id": "562a349a33c54a708dd73856b4226729",
       "version_major": 2,
       "version_minor": 0
      },
      "text/plain": [
       "Simul:   0%|          | 0/20480 [00:00<?, ?it/s]"
      ]
     },
     "metadata": {},
     "output_type": "display_data"
    }
   ],
   "source": [
    "######################\n",
    "# Initial simulation #\n",
    "######################\n",
    "\n",
    "# Init simulation:\n",
    "xx_spinup = simulate_ens(setup_lorenz)\n",
    "\n",
    "# initial state (discard the first 100 time steps as spinup):\n",
    "xx_init = xx_spinup[100:]"
   ]
  },
  {
   "cell_type": "code",
   "execution_count": 15,
   "id": "1281faae-fbed-4c8b-8e33-315b56ba867d",
   "metadata": {},
   "outputs": [
    {
     "data": {
      "text/plain": [
       "(20381, 40)"
      ]
     },
     "execution_count": 15,
     "metadata": {},
     "output_type": "execute_result"
    }
   ],
   "source": [
    "xx_init.shape"
   ]
  },
  {
   "cell_type": "code",
   "execution_count": 16,
   "id": "6e544cf3-9f75-42d8-b1de-42a2821af457",
   "metadata": {},
   "outputs": [],
   "source": [
    "##################\n",
    "# reference run  #\n",
    "##################\n",
    "\n",
    "# setup builder of the run:\n",
    "sb = SetupBuilder(t=Chronology(0.05, dkObs=1, T=Texpe, BurnIn=1),\n",
    "\tp=p,\n",
    "\tstd_o=std_o,\n",
    "\tdata=xx_init)\n",
    "\n",
    "# Define the setup run for the true simulation:\n",
    "setup_true = sb.setup()"
   ]
  },
  {
   "cell_type": "code",
   "execution_count": 34,
   "id": "ec23b5cf-1d44-4ca4-9d0b-f2d2cba88255",
   "metadata": {},
   "outputs": [],
   "source": [
    "##########################\n",
    "# Machine learning setup #\n",
    "##########################\n",
    "# Parameters of the neural network (architecture + training):\n",
    "param_nn = {'archi': ((24, 5, 'relu', 0.0), (37, 5, 'relu', 0.0)),  # CNN layer setup\n",
    "\t'bilin': True,  # activate bilinear layer\n",
    "\t'batchnorm': True,  # activate batchnorm normalization\n",
    "\t'reg': ('ridge', 1e-4),  # L2 regularization for the last layer\n",
    "\t'weighted': True,  # Using a variance matrix for the loss function\n",
    "\t'finetuning': False,  # Deactivate a finetuning of the last layer after optimization\n",
    "\t'npred': 1,  # Number of forecast time step in the loss function\n",
    "\t'Nepochs': 1,  # Number of epochs\n",
    "\t'batch_size': 256  # Batchsize during the training\n",
    "}\n",
    "nn1 = NNPredictor(m, **param_nn)\n",
    "\n",
    "# Load the neural net with  weights\n",
    "nn1._smodel.load_weights(os.path.join(datadir, weights1))\n",
    "\n",
    "nn2 = NNPredictor(m, **param_nn)\n",
    "\n",
    "# Load the neural net with  weights\n",
    "nn2._smodel.load_weights(os.path.join(datadir, weights2))\n"
   ]
  },
  {
   "cell_type": "code",
   "execution_count": 35,
   "id": "64bc4bf9-4f8e-4a2f-b575-a2c56ad65431",
   "metadata": {},
   "outputs": [
    {
     "data": {
      "application/vnd.jupyter.widget-view+json": {
       "model_id": "c10f4fe0878b47c986b6bde58d1c4be8",
       "version_major": 2,
       "version_minor": 0
      },
      "text/plain": [
       "Simul:   0%|          | 0/100 [00:00<?, ?it/s]"
      ]
     },
     "metadata": {},
     "output_type": "display_data"
    }
   ],
   "source": [
    "# Define surrogate model setup:\n",
    "setup1 = nn1.define_setup(setup_true)\n",
    "setup2 = nn2.define_setup(setup_true)\n",
    "\n",
    "# simulation\n",
    "xsim_true      = simulate_ens(setup_true, N=N)\n",
    "x0 = xsim_true[0]"
   ]
  },
  {
   "cell_type": "code",
   "execution_count": 36,
   "id": "63f46cbe-0104-4fe9-8c53-d4cfc752e5d5",
   "metadata": {},
   "outputs": [
    {
     "data": {
      "application/vnd.jupyter.widget-view+json": {
       "model_id": "1e27f5eb087f4106b7125d05b4fb31e6",
       "version_major": 2,
       "version_minor": 0
      },
      "text/plain": [
       "Simul:   0%|          | 0/100 [00:00<?, ?it/s]"
      ]
     },
     "metadata": {},
     "output_type": "display_data"
    }
   ],
   "source": [
    "########\n",
    "# plot #\n",
    "########\n",
    "\n",
    "xsim_surrogate1 = simulate_ens(setup1, N=N, Xinit=x0)\n",
    "\n",
    "# plot\n",
    "fig = plot_L96_2D(xsim_true[:,0], xsim_surrogate1[:,0], 1.67*setup_true.t.tt, labels=['True','Surrogate'])\n",
    "fig.savefig(os.path.join(datadir, 'simulation_init.png'))\n"
   ]
  },
  {
   "cell_type": "code",
   "execution_count": 37,
   "id": "15382adf-c19b-4623-81e2-64be50de9c07",
   "metadata": {},
   "outputs": [
    {
     "data": {
      "application/vnd.jupyter.widget-view+json": {
       "model_id": "92b55326d6cd4f359f687cda6e98590b",
       "version_major": 2,
       "version_minor": 0
      },
      "text/plain": [
       "Simul:   0%|          | 0/100 [00:00<?, ?it/s]"
      ]
     },
     "metadata": {},
     "output_type": "display_data"
    }
   ],
   "source": [
    "########\n",
    "# plot #\n",
    "########\n",
    "\n",
    "xsim_surrogate2 = simulate_ens(setup2, N=N, Xinit=x0)\n",
    "\n",
    "# plot\n",
    "fig = plot_L96_2D(xsim_true[:,0], xsim_surrogate2[:,0], 1.67*setup_true.t.tt, labels=['True','Surrogate'])\n",
    "fig.savefig(os.path.join(datadir, 'simulation_final.png'))"
   ]
  },
  {
   "cell_type": "code",
   "execution_count": null,
   "id": "987a1326-b6bf-43b0-8d51-d6c18e625ea0",
   "metadata": {},
   "outputs": [],
   "source": [
    "########\n",
    "# plot #\n",
    "########\n",
    "# Define surrogate model setup:\n",
    "setup = nn.define_setup(setup_true)\n",
    "\n",
    "# Init at the end of the training period:\n",
    "\n",
    "\n",
    "# simulation\n",
    "xsim_true      = simulate_ens(setup_true, N=N)\n",
    "x0 = xsim_true[0]\n",
    "xsim_surrogate = simulate_ens(setup, N=N, Xinit=x0)\n",
    "\n",
    "# plot\n",
    "fig = plot_L96_2D(xsim_true[:,0], xsim_surrogate[:,0], 1.67*setup_true.t.tt, labels=['True','Surrogate'])\n",
    "fig.savefig(os.path.join(datadir, 'simulation_init.png'))"
   ]
  },
  {
   "cell_type": "code",
   "execution_count": 47,
   "id": "1d23597c-578c-4f0a-a629-a6d1b545ef0b",
   "metadata": {},
   "outputs": [],
   "source": [
    "rmse1 = np.sqrt(np.mean(np.square(xsim_true-xsim_surrogate1),axis=(1,2))/2)\n",
    "rmse2 = np.sqrt(np.mean(np.square(xsim_true-xsim_surrogate2),axis=(1,2))/2)\n",
    "sigma = np.std(xsim_true)"
   ]
  },
  {
   "cell_type": "code",
   "execution_count": 49,
   "id": "74bfda0f-3bc9-4bb0-9ef8-b88aa9f4f9da",
   "metadata": {},
   "outputs": [],
   "source": [
    "fig, ax = plt.subplots()\n",
    "ax.plot(1.67*setup_true.t.tt,rmse1, label='hybrid after 1 cycle')\n",
    "ax.plot(1.67*setup_true.t.tt,rmse2, label='hybrid after 40 cycles')\n",
    "ax.plot(1.67*setup_true.t.tt,sigma*np.ones_like(setup_true.t.tt), ':k', label='Model standard deviation')\n",
    "\n",
    "ax.legend()\n",
    "ax.set_xlabel('lead time (in Lyapunov time)')\n",
    "ax.set_ylabel('RMSE')\n",
    "fig.savefig(os.path.join(datadir, 'rmse.png'))"
   ]
  },
  {
   "cell_type": "code",
   "execution_count": null,
   "id": "9137ebbc-805e-4718-b528-87e14206e63d",
   "metadata": {},
   "outputs": [],
   "source": []
  }
 ],
 "metadata": {
  "kernelspec": {
   "display_name": "Python 3 (ipykernel)",
   "language": "python",
   "name": "python3"
  },
  "language_info": {
   "codemirror_mode": {
    "name": "ipython",
    "version": 3
   },
   "file_extension": ".py",
   "mimetype": "text/x-python",
   "name": "python",
   "nbconvert_exporter": "python",
   "pygments_lexer": "ipython3",
   "version": "3.10.5"
  }
 },
 "nbformat": 4,
 "nbformat_minor": 5
}
